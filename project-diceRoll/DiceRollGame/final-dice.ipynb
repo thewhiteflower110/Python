{
 "cells": [
  {
   "cell_type": "code",
   "execution_count": 2,
   "metadata": {},
   "outputs": [
    {
     "name": "stderr",
     "output_type": "stream",
     "text": [
      "Exception in Tkinter callback\n",
      "Traceback (most recent call last):\n",
      "  File \"C:\\Users\\Juhi Kamdar\\Anaconda3\\lib\\tkinter\\__init__.py\", line 1705, in __call__\n",
      "    return self.func(*args)\n",
      "  File \"<ipython-input-2-5157456382a5>\", line 13, in roll\n",
      "    pic=PhotoImage(file=\"d1.png\")\n",
      "  File \"C:\\Users\\Juhi Kamdar\\Anaconda3\\lib\\tkinter\\__init__.py\", line 3545, in __init__\n",
      "    Image.__init__(self, 'photo', name, cnf, master, **kw)\n",
      "  File \"C:\\Users\\Juhi Kamdar\\Anaconda3\\lib\\tkinter\\__init__.py\", line 3501, in __init__\n",
      "    self.tk.call(('image', 'create', imgtype, name,) + options)\n",
      "_tkinter.TclError: too many nested evaluations (infinite loop?)\n",
      "Exception in Tkinter callback\n",
      "Traceback (most recent call last):\n",
      "  File \"C:\\Users\\Juhi Kamdar\\Anaconda3\\lib\\tkinter\\__init__.py\", line 1705, in __call__\n",
      "    return self.func(*args)\n",
      "  File \"<ipython-input-2-5157456382a5>\", line 17, in roll\n",
      "    pic=PhotoImage(file=\"d3.png\")\n",
      "  File \"C:\\Users\\Juhi Kamdar\\Anaconda3\\lib\\tkinter\\__init__.py\", line 3545, in __init__\n",
      "    Image.__init__(self, 'photo', name, cnf, master, **kw)\n",
      "  File \"C:\\Users\\Juhi Kamdar\\Anaconda3\\lib\\tkinter\\__init__.py\", line 3501, in __init__\n",
      "    self.tk.call(('image', 'create', imgtype, name,) + options)\n",
      "_tkinter.TclError: too many nested evaluations (infinite loop?)\n"
     ]
    }
   ],
   "source": [
    "from tkinter import *  \n",
    "import random\n",
    "root = Tk()  \n",
    "\n",
    "Label(root, text=\"Roll the dice!\").grid(row=0,column=20)\n",
    "\n",
    "lbl=Label(root, text=\"image here\")\n",
    "lbl.grid(row=1,column=20)\n",
    "\n",
    "def roll():\n",
    "    x=random.randrange(1,7,1)\n",
    "    if x==1:\n",
    "        pic=PhotoImage(file=\"d1.png\")\n",
    "    elif x==2:\n",
    "        pic=PhotoImage(file=\"d2.png\")\n",
    "    elif x==3:\n",
    "        pic=PhotoImage(file=\"d3.png\")\n",
    "    elif x==4:\n",
    "        pic=PhotoImage(file=\"d4.png\")\n",
    "    elif x==5:\n",
    "        pic=PhotoImage(file=\"d5.png\")\n",
    "    elif x==6:\n",
    "        pic=PhotoImage(file=\"d6.png\")\n",
    "    lbl=Label(root,image=pic)\n",
    "    lbl.grid(row=1,column=20)\n",
    "    b1.invoke()\n",
    "\n",
    "b1=Button(root,text='Roll it!',width=25,command=roll,fg='red')\n",
    "b1.grid(row=40,column=20)\n",
    "\n",
    "root.mainloop()  \n"
   ]
  },
  {
   "cell_type": "code",
   "execution_count": null,
   "metadata": {},
   "outputs": [],
   "source": []
  }
 ],
 "metadata": {
  "kernelspec": {
   "display_name": "Python 3",
   "language": "python",
   "name": "python3"
  },
  "language_info": {
   "codemirror_mode": {
    "name": "ipython",
    "version": 3
   },
   "file_extension": ".py",
   "mimetype": "text/x-python",
   "name": "python",
   "nbconvert_exporter": "python",
   "pygments_lexer": "ipython3",
   "version": "3.7.1"
  }
 },
 "nbformat": 4,
 "nbformat_minor": 2
}
